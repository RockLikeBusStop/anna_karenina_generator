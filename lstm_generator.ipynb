{
  "cells": [
    {
      "cell_type": "markdown",
      "metadata": {},
      "source": [
        "# Anna Karenina\n",
        "\n",
        "In this notebook, I'll build a character-wise RNN trained on Anna Karenina, one of my all-time favorite books. It'll be able to generate new text based on the text from the book.\n",
        "\n",
        "This network is based off of Andrej Karpathy's [post on RNNs](http://karpathy.github.io/2015/05/21/rnn-effectiveness/) and [implementation in Torch](https://github.com/karpathy/char-rnn). Also, some information [here at r2rt](http://r2rt.com/recurrent-neural-networks-in-tensorflow-ii.html) and from [Sherjil Ozair](https://github.com/sherjilozair/char-rnn-tensorflow) on GitHub. Below is the general architecture of the character-wise RNN.\n",
        "\n",
        "<img src=\"assets/charseq.jpeg\" width=\"500\">"
      ]
    },
    {
      "cell_type": "code",
      "execution_count": null,
      "metadata": {},
      "outputs": [],
      "source": [
        "import time\n",
        "from collections import namedtuple\n",
        "\n",
        "import numpy as np\n",
        "import tensorflow as tf"
      ]
    },
    {
      "cell_type": "markdown",
      "metadata": {},
      "source": [
        "First we'll load the text file and convert it into integers for our network to use. Here I'm creating a couple dictionaries to convert the characters to and from integers. Encoding the characters as integers makes it easier to use as input in the network."
      ]
    },
    {
      "cell_type": "code",
      "execution_count": 2,
      "metadata": {},
      "outputs": [],
      "source": [
        "with open('anna.txt', 'r') as f:\n",
        "    text=f.read()\n",
        "vocab = sorted(set(text))\n",
        "vocab_to_int = {c: i for i, c in enumerate(vocab)}\n",
        "int_to_vocab = dict(enumerate(vocab))\n",
        "encoded = np.array([vocab_to_int[c] for c in text], dtype=np.int32)"
      ]
    },
    {
      "cell_type": "markdown",
      "metadata": {},
      "source": [
        "Let's check out the first 100 characters, make sure everything is peachy. According to the [American Book Review](http://americanbookreview.org/100bestlines.asp), this is the 6th best first line of a book ever."
      ]
    },
    {
      "cell_type": "code",
      "execution_count": 3,
      "metadata": {},
      "outputs": [
        {
          "data": {
            "text/plain": [
              "'Chapter 1\\n\\n\\nHappy families are all alike; every unhappy family is unhappy in its own\\nway.\\n\\nEverythin'"
            ]
          },
          "execution_count": 3,
          "metadata": {},
          "output_type": "execute_result"
        }
      ],
      "source": [
        "text[:100]"
      ]
    },
    {
      "cell_type": "markdown",
      "metadata": {},
      "source": [
        "And we can see the characters encoded as integers."
      ]
    },
    {
      "cell_type": "code",
      "execution_count": 4,
      "metadata": {},
      "outputs": [
        {
          "data": {
            "text/plain": [
              "array([31, 64, 57, 72, 76, 61, 74,  1, 16,  0,  0,  0, 36, 57, 72, 72, 81,\n",
              "        1, 62, 57, 69, 65, 68, 65, 61, 75,  1, 57, 74, 61,  1, 57, 68, 68,\n",
              "        1, 57, 68, 65, 67, 61, 26,  1, 61, 78, 61, 74, 81,  1, 77, 70, 64,\n",
              "       57, 72, 72, 81,  1, 62, 57, 69, 65, 68, 81,  1, 65, 75,  1, 77, 70,\n",
              "       64, 57, 72, 72, 81,  1, 65, 70,  1, 65, 76, 75,  1, 71, 79, 70,  0,\n",
              "       79, 57, 81, 13,  0,  0, 33, 78, 61, 74, 81, 76, 64, 65, 70], dtype=int32)"
            ]
          },
          "execution_count": 4,
          "metadata": {},
          "output_type": "execute_result"
        }
      ],
      "source": [
        "encoded[:100]"
      ]
    },
    {
      "cell_type": "markdown",
      "metadata": {},
      "source": [
        "Since the network is working with individual characters, it's similar to a classification problem in which we are trying to predict the next character from the previous text.  Here's how many 'classes' our network has to pick from."
      ]
    },
    {
      "cell_type": "code",
      "execution_count": 5,
      "metadata": {},
      "outputs": [
        {
          "data": {
            "text/plain": [
              "83"
            ]
          },
          "execution_count": 5,
          "metadata": {},
          "output_type": "execute_result"
        }
      ],
      "source": [
        "len(vocab)"
      ]
    },
    {
      "cell_type": "markdown",
      "metadata": {},
      "source": [
        "## Making training mini-batches\n",
        "\n",
        "Here is where we'll make our mini-batches for training. Remember that we want our batches to be multiple sequences of some desired number of sequence steps. Considering a simple example, our batches would look like this:\n",
        "\n",
        "<img src=\"assets/sequence_batching@1x.png\" width=500px>\n",
        "\n",
        "\n",
        "<br>\n",
        "\n",
        "We start with our text encoded as integers in one long array in `encoded`. Let's create a function that will give us an iterator for our batches. I like using [generator functions](https://jeffknupp.com/blog/2013/04/07/improve-your-python-yield-and-generators-explained/) to do this. Then we can pass `encoded` into this function and get our batch generator.\n",
        "\n",
        "The first thing we need to do is discard some of the text so we only have completely full batches. Each batch contains $N \\times M$ characters, where $N$ is the batch size (the number of sequences) and $M$ is the number of steps. Then, to get the total number of batches, $K$, we can make from the array `arr`, you divide the length of `arr` by the number of characters per batch. Once you know the number of batches, you can get the total number of characters to keep from `arr`, $N * M * K$.\n",
        "\n",
        "After that, we need to split `arr` into $N$ sequences. You can do this using `arr.reshape(size)` where `size` is a tuple containing the dimensions sizes of the reshaped array. We know we want $N$ sequences (`batch_size` below), let's make that the size of the first dimension. For the second dimension, you can use `-1` as a placeholder in the size, it'll fill up the array with the appropriate data for you. After this, you should have an array that is $N \\times (M * K)$.\n",
        "\n",
        "Now that we have this array, we can iterate through it to get our batches. The idea is each batch is a $N \\times M$ window on the $N \\times (M * K)$ array. For each subsequent batch, the window moves over by `n_steps`. We also want to create both the input and target arrays. Remember that the targets are the inputs shifted over one character. \n",
        "\n",
        "The way I like to do this window is use `range` to take steps of size `n_steps` from $0$ to `arr.shape[1]`, the total number of steps in each sequence. That way, the integers you get from `range` always point to the start of a batch, and each window is `n_steps` wide."
      ]
    },
    {
      "cell_type": "code",
      "execution_count": 6,
      "metadata": {},
      "outputs": [],
      "source": [
        "def get_batches(arr, batch_size, n_steps):\n",
        "    '''Create a generator that returns batches of size\n",
        "       batch_size x n_steps from arr.\n",
        "       \n",
        "       Arguments\n",
        "       ---------\n",
        "       arr: Array you want to make batches from\n",
        "       batch_size: Batch size, the number of sequences per batch\n",
        "       n_steps: Number of sequence steps per batch\n",
        "    '''\n",
        "    # Get the number of characters per batch and number of batches we can make\n",
        "    chars_per_batch = batch_size * n_steps\n",
        "    n_batches = len(arr)//chars_per_batch\n",
        "    \n",
        "    # Keep only enough characters to make full batches\n",
        "    arr = arr[:n_batches * chars_per_batch]\n",
        "    \n",
        "    # Reshape into batch_size rows\n",
        "    arr = arr.reshape((batch_size, -1))\n",
        "    \n",
        "    for n in range(0, arr.shape[1], n_steps):\n",
        "        # The features\n",
        "        x = arr[:, n:n+n_steps]\n",
        "        # The targets, shifted by one\n",
        "        y_temp = arr[:, n+1:n+n_steps+1]\n",
        "        \n",
        "        # For the very last batch, y will be one character short at the end of \n",
        "        # the sequences which breaks things. To get around this, I'll make an \n",
        "        # array of the appropriate size first, of all zeros, then add the targets.\n",
        "        # This will introduce a small artifact in the last batch, but it won't matter.\n",
        "        y = np.zeros(x.shape, dtype=x.dtype)\n",
        "        y[:,:y_temp.shape[1]] = y_temp\n",
        "        \n",
        "        yield x, y"
      ]
    },
    {
      "cell_type": "markdown",
      "metadata": {},
      "source": [
        "Now I'll make my data sets and we can check out what's going on here. Here I'm going to use a batch size of 10 and 50 sequence steps."
      ]
    },
    {
      "cell_type": "code",
      "execution_count": 7,
      "metadata": {},
      "outputs": [],
      "source": [
        "batches = get_batches(encoded, 10, 50)\n",
        "x, y = next(batches)"
      ]
    },
    {
      "cell_type": "code",
      "execution_count": 8,
      "metadata": {},
      "outputs": [
        {
          "name": "stdout",
          "output_type": "stream",
          "text": [
            "x\n",
            " [[31 64 57 72 76 61 74  1 16  0]\n",
            " [ 1 57 69  1 70 71 76  1 63 71]\n",
            " [78 65 70 13  0  0  3 53 61 75]\n",
            " [70  1 60 77 74 65 70 63  1 64]\n",
            " [ 1 65 76  1 65 75 11  1 75 65]\n",
            " [ 1 37 76  1 79 57 75  0 71 70]\n",
            " [64 61 70  1 59 71 69 61  1 62]\n",
            " [26  1 58 77 76  1 70 71 79  1]\n",
            " [76  1 65 75 70  7 76 13  1 48]\n",
            " [ 1 75 57 65 60  1 76 71  1 64]]\n",
            "\n",
            "y\n",
            " [[64 57 72 76 61 74  1 16  0  0]\n",
            " [57 69  1 70 71 76  1 63 71 65]\n",
            " [65 70 13  0  0  3 53 61 75 11]\n",
            " [ 1 60 77 74 65 70 63  1 64 65]\n",
            " [65 76  1 65 75 11  1 75 65 74]\n",
            " [37 76  1 79 57 75  0 71 70 68]\n",
            " [61 70  1 59 71 69 61  1 62 71]\n",
            " [ 1 58 77 76  1 70 71 79  1 75]\n",
            " [ 1 65 75 70  7 76 13  1 48 64]\n",
            " [75 57 65 60  1 76 71  1 64 61]]\n"
          ]
        }
      ],
      "source": [
        "print('x\\n', x[:10, :10])\n",
        "print('\\ny\\n', y[:10, :10])"
      ]
    },
    {
      "cell_type": "markdown",
      "metadata": {},
      "source": [
        "If you implemented `get_batches` correctly, the above output should look something like \n",
        "```\n",
        "x\n",
        " [[55 63 69 22  6 76 45  5 16 35]\n",
        " [ 5 69  1  5 12 52  6  5 56 52]\n",
        " [48 29 12 61 35 35  8 64 76 78]\n",
        " [12  5 24 39 45 29 12 56  5 63]\n",
        " [ 5 29  6  5 29 78 28  5 78 29]\n",
        " [ 5 13  6  5 36 69 78 35 52 12]\n",
        " [63 76 12  5 18 52  1 76  5 58]\n",
        " [34  5 73 39  6  5 12 52 36  5]\n",
        " [ 6  5 29 78 12 79  6 61  5 59]\n",
        " [ 5 78 69 29 24  5  6 52  5 63]]\n",
        "\n",
        "y\n",
        " [[63 69 22  6 76 45  5 16 35 35]\n",
        " [69  1  5 12 52  6  5 56 52 29]\n",
        " [29 12 61 35 35  8 64 76 78 28]\n",
        " [ 5 24 39 45 29 12 56  5 63 29]\n",
        " [29  6  5 29 78 28  5 78 29 45]\n",
        " [13  6  5 36 69 78 35 52 12 43]\n",
        " [76 12  5 18 52  1 76  5 58 52]\n",
        " [ 5 73 39  6  5 12 52 36  5 78]\n",
        " [ 5 29 78 12 79  6 61  5 59 63]\n",
        " [78 69 29 24  5  6 52  5 63 76]]\n",
        " ```\n",
        " although the exact numbers will be different. Check to make sure the data is shifted over one step for `y`."
      ]
    },
    {
      "cell_type": "markdown",
      "metadata": {},
      "source": [
        "## Building the model\n",
        "\n",
        "Below is where you'll build the network. We'll break it up into parts so it's easier to reason about each bit. Then we can connect them up into the whole network.\n",
        "\n",
        "<img src=\"assets/charRNN.png\" width=500px>\n",
        "\n",
        "\n",
        "### Inputs\n",
        "\n",
        "First off we'll create our input placeholders. As usual we need placeholders for the training data and the targets. We'll also create a placeholder for dropout layers called `keep_prob`."
      ]
    },
    {
      "cell_type": "code",
      "execution_count": 9,
      "metadata": {},
      "outputs": [],
      "source": [
        "def build_inputs(batch_size, num_steps):\n",
        "    ''' Define placeholders for inputs, targets, and dropout \n",
        "    \n",
        "        Arguments\n",
        "        ---------\n",
        "        batch_size: Batch size, number of sequences per batch\n",
        "        num_steps: Number of sequence steps in a batch\n",
        "        \n",
        "    '''\n",
        "    # Declare placeholders we'll feed into the graph\n",
        "    inputs = tf.placeholder(tf.int32, [batch_size, num_steps], name='inputs')\n",
        "    targets = tf.placeholder(tf.int32, [batch_size, num_steps], name='targets')\n",
        "    \n",
        "    # Keep probability placeholder for drop out layers\n",
        "    keep_prob = tf.placeholder(tf.float32, name='keep_prob')\n",
        "    \n",
        "    return inputs, targets, keep_prob"
      ]
    },
    {
      "cell_type": "markdown",
      "metadata": {},
      "source": [
        "### LSTM Cell\n",
        "\n",
        "Here we will create the LSTM cell we'll use in the hidden layer. We'll use this cell as a building block for the RNN. So we aren't actually defining the RNN here, just the type of cell we'll use in the hidden layer.\n",
        "\n",
        "We first create a basic LSTM cell with\n",
        "\n",
        "```python\n",
        "lstm = tf.contrib.rnn.BasicLSTMCell(num_units)\n",
        "```\n",
        "\n",
        "where `num_units` is the number of units in the hidden layers in the cell. Then we can add dropout by wrapping it with \n",
        "\n",
        "```python\n",
        "tf.contrib.rnn.DropoutWrapper(lstm, output_keep_prob=keep_prob)\n",
        "```\n",
        "You pass in a cell and it will automatically add dropout to the inputs or outputs. Finally, we can stack up the LSTM cells into layers with [`tf.contrib.rnn.MultiRNNCell`](https://www.tensorflow.org/versions/r1.0/api_docs/python/tf/contrib/rnn/MultiRNNCell). With this, you pass in a list of cells and it will send the output of one cell into the next cell. Previously with TensorFlow 1.0, you could do this\n",
        "\n",
        "```python\n",
        "tf.contrib.rnn.MultiRNNCell([cell]*num_layers)\n",
        "```\n",
        "\n",
        "This might look a little weird if you know Python well because this will create a list of the same `cell` object. However, TensorFlow 1.0 will create different weight matrices for all `cell` objects. But, starting with TensorFlow 1.1 you actually need to create new cell objects in the list. To get it to work in TensorFlow 1.1, it should look like\n",
        "\n",
        "```python\n",
        "def build_cell(num_units, keep_prob):\n",
        "    lstm = tf.contrib.rnn.BasicLSTMCell(num_units)\n",
        "    drop = tf.contrib.rnn.DropoutWrapper(lstm, output_keep_prob=keep_prob)\n",
        "    \n",
        "    return drop\n",
        "    \n",
        "tf.contrib.rnn.MultiRNNCell([build_cell(num_units, keep_prob) for _ in range(num_layers)])\n",
        "```\n",
        "\n",
        "Even though this is actually multiple LSTM cells stacked on each other, you can treat the multiple layers as one cell.\n",
        "\n",
        "We also need to create an initial cell state of all zeros. This can be done like so\n",
        "\n",
        "```python\n",
        "initial_state = cell.zero_state(batch_size, tf.float32)\n",
        "```\n",
        "\n",
        "Below, we implement the `build_lstm` function to create these LSTM cells and the initial state."
      ]
    },
    {
      "cell_type": "code",
      "execution_count": 10,
      "metadata": {},
      "outputs": [],
      "source": [
        "def build_lstm(lstm_size, num_layers, batch_size, keep_prob):\n",
        "    ''' Build LSTM cell.\n",
        "    \n",
        "        Arguments\n",
        "        ---------\n",
        "        keep_prob: Scalar tensor (tf.placeholder) for the dropout keep probability\n",
        "        lstm_size: Size of the hidden layers in the LSTM cells\n",
        "        num_layers: Number of LSTM layers\n",
        "        batch_size: Batch size\n",
        "\n",
        "    '''\n",
        "    ### Build the LSTM Cell\n",
        "    \n",
        "    def build_cell(lstm_size, keep_prob):\n",
        "        # Use a basic LSTM cell\n",
        "        lstm = tf.contrib.rnn.BasicLSTMCell(lstm_size)\n",
        "        \n",
        "        # Add dropout to the cell\n",
        "        drop = tf.contrib.rnn.DropoutWrapper(lstm, output_keep_prob=keep_prob)\n",
        "        return drop\n",
        "    \n",
        "    \n",
        "    # Stack up multiple LSTM layers, for deep learning\n",
        "    cell = tf.contrib.rnn.MultiRNNCell([build_cell(lstm_size, keep_prob) for _ in range(num_layers)])\n",
        "    initial_state = cell.zero_state(batch_size, tf.float32)\n",
        "    \n",
        "    return cell, initial_state"
      ]
    },
    {
      "cell_type": "markdown",
      "metadata": {},
      "source": [
        "### RNN Output\n",
        "\n",
        "Here we'll create the output layer. We need to connect the output of the RNN cells to a full connected layer with a softmax output. The softmax output gives us a probability distribution we can use to predict the next character.\n",
        "\n",
        "If our input has batch size $N$, number of steps $M$, and the hidden layer has $L$ hidden units, then the output is a 3D tensor with size $N \\times M \\times L$. The output of each LSTM cell has size $L$, we have $M$ of them, one for each sequence step, and we have $N$ sequences. So the total size is $N \\times M \\times L$.\n",
        "\n",
        "We are using the same fully connected layer, the same weights, for each of the outputs. Then, to make things easier, we should reshape the outputs into a 2D tensor with shape $(M * N) \\times L$. That is, one row for each sequence and step, where the values of each row are the output from the LSTM cells.\n",
        "\n",
        "One we have the outputs reshaped, we can do the matrix multiplication with the weights. We need to wrap the weight and bias variables in a variable scope with `tf.variable_scope(scope_name)` because there are weights being created in the LSTM cells. TensorFlow will throw an error if the weights created here have the same names as the weights created in the LSTM cells, which they will be default. To avoid this, we wrap the variables in a variable scope so we can give them unique names."
      ]
    },
    {
      "cell_type": "code",
      "execution_count": 11,
      "metadata": {},
      "outputs": [],
      "source": [
        "def build_output(lstm_output, in_size, out_size):\n",
        "    ''' Build a softmax layer, return the softmax output and logits.\n",
        "    \n",
        "        Arguments\n",
        "        ---------\n",
        "        \n",
        "        x: Input tensor\n",
        "        in_size: Size of the input tensor, for example, size of the LSTM cells\n",
        "        out_size: Size of this softmax layer\n",
        "    \n",
        "    '''\n",
        "\n",
        "    # Reshape output so it's a bunch of rows, one row for each step for each sequence.\n",
        "    # That is, the shape should be batch_size*num_steps rows by lstm_size columns\n",
        "    seq_output = tf.concat(lstm_output, axis=1)\n",
        "    x = tf.reshape(seq_output, [-1, in_size])\n",
        "    \n",
        "    # Connect the RNN outputs to a softmax layer\n",
        "    with tf.variable_scope('softmax'):\n",
        "        softmax_w = tf.Variable(tf.truncated_normal((in_size, out_size), stddev=0.1))\n",
        "        softmax_b = tf.Variable(tf.zeros(out_size))\n",
        "    \n",
        "    # Since output is a bunch of rows of RNN cell outputs, logits will be a bunch\n",
        "    # of rows of logit outputs, one for each step and sequence\n",
        "    logits = tf.matmul(x, softmax_w) + softmax_b\n",
        "    \n",
        "    # Use softmax to get the probabilities for predicted characters\n",
        "    out = tf.nn.softmax(logits, name='predictions')\n",
        "    \n",
        "    return out, logits"
      ]
    },
    {
      "cell_type": "markdown",
      "metadata": {},
      "source": [
        "### Training loss\n",
        "\n",
        "Next up is the training loss. We get the logits and targets and calculate the softmax cross-entropy loss. First we need to one-hot encode the targets, we're getting them as encoded characters. Then, reshape the one-hot targets so it's a 2D tensor with size $(M*N) \\times C$ where $C$ is the number of classes/characters we have. Remember that we reshaped the LSTM outputs and ran them through a fully connected layer with $C$ units. So our logits will also have size $(M*N) \\times C$.\n",
        "\n",
        "Then we run the logits and targets through `tf.nn.softmax_cross_entropy_with_logits` and find the mean to get the loss."
      ]
    },
    {
      "cell_type": "code",
      "execution_count": 12,
      "metadata": {},
      "outputs": [],
      "source": [
        "def build_loss(logits, targets, lstm_size, num_classes):\n",
        "    ''' Calculate the loss from the logits and the targets.\n",
        "    \n",
        "        Arguments\n",
        "        ---------\n",
        "        logits: Logits from final fully connected layer\n",
        "        targets: Targets for supervised learning\n",
        "        lstm_size: Number of LSTM hidden units\n",
        "        num_classes: Number of classes in targets\n",
        "        \n",
        "    '''\n",
        "    \n",
        "    # One-hot encode targets and reshape to match logits, one row per batch_size per step\n",
        "    y_one_hot = tf.one_hot(targets, num_classes)\n",
        "    y_reshaped = tf.reshape(y_one_hot, logits.get_shape())\n",
        "    \n",
        "    # Softmax cross entropy loss\n",
        "    loss = tf.nn.softmax_cross_entropy_with_logits(logits=logits, labels=y_reshaped)\n",
        "    loss = tf.reduce_mean(loss)\n",
        "    return loss"
      ]
    },
    {
      "cell_type": "markdown",
      "metadata": {},
      "source": [
        "### Optimizer\n",
        "\n",
        "Here we build the optimizer. Normal RNNs have have issues gradients exploding and disappearing. LSTMs fix the disappearance problem, but the gradients can still grow without bound. To fix this, we can clip the gradients above some threshold. That is, if a gradient is larger than that threshold, we set it to the threshold. This will ensure the gradients never grow overly large. Then we use an AdamOptimizer for the learning step."
      ]
    },
    {
      "cell_type": "code",
      "execution_count": 13,
      "metadata": {},
      "outputs": [],
      "source": [
        "def build_optimizer(loss, learning_rate, grad_clip):\n",
        "    ''' Build optmizer for training, using gradient clipping.\n",
        "    \n",
        "        Arguments:\n",
        "        loss: Network loss\n",
        "        learning_rate: Learning rate for optimizer\n",
        "    \n",
        "    '''\n",
        "    \n",
        "    # Optimizer for training, using gradient clipping to control exploding gradients\n",
        "    tvars = tf.trainable_variables()\n",
        "    grads, _ = tf.clip_by_global_norm(tf.gradients(loss, tvars), grad_clip)\n",
        "    train_op = tf.train.AdamOptimizer(learning_rate)\n",
        "    optimizer = train_op.apply_gradients(zip(grads, tvars))\n",
        "    \n",
        "    return optimizer"
      ]
    },
    {
      "cell_type": "markdown",
      "metadata": {},
      "source": [
        "### Build the network\n",
        "\n",
        "Now we can put all the pieces together and build a class for the network. To actually run data through the LSTM cells, we will use [`tf.nn.dynamic_rnn`](https://www.tensorflow.org/versions/r1.0/api_docs/python/tf/nn/dynamic_rnn). This function will pass the hidden and cell states across LSTM cells appropriately for us. It returns the outputs for each LSTM cell at each step for each sequence in the mini-batch. It also gives us the final LSTM state. We want to save this state as `final_state` so we can pass it to the first LSTM cell in the the next mini-batch run. For `tf.nn.dynamic_rnn`, we pass in the cell and initial state we get from `build_lstm`, as well as our input sequences. Also, we need to one-hot encode the inputs before going into the RNN. "
      ]
    },
    {
      "cell_type": "code",
      "execution_count": 14,
      "metadata": {},
      "outputs": [],
      "source": [
        "class CharRNN:\n",
        "    \n",
        "    def __init__(self, num_classes, batch_size=64, num_steps=50, \n",
        "                       lstm_size=128, num_layers=2, learning_rate=0.001, \n",
        "                       grad_clip=5, sampling=False):\n",
        "    \n",
        "        # When we're using this network for sampling later, we'll be passing in\n",
        "        # one character at a time, so providing an option for that\n",
        "        if sampling == True:\n",
        "            batch_size, num_steps = 1, 1\n",
        "        else:\n",
        "            batch_size, num_steps = batch_size, num_steps\n",
        "\n",
        "        tf.reset_default_graph()\n",
        "        \n",
        "        # Build the input placeholder tensors\n",
        "        self.inputs, self.targets, self.keep_prob = build_inputs(batch_size, num_steps)\n",
        "\n",
        "        # Build the LSTM cell\n",
        "        cell, self.initial_state = build_lstm(lstm_size, num_layers, batch_size, self.keep_prob)\n",
        "\n",
        "        ### Run the data through the RNN layers\n",
        "        # First, one-hot encode the input tokens\n",
        "        x_one_hot = tf.one_hot(self.inputs, num_classes)\n",
        "        \n",
        "        # Run each sequence step through the RNN and collect the outputs\n",
        "        outputs, state = tf.nn.dynamic_rnn(cell, x_one_hot, initial_state=self.initial_state)\n",
        "        self.final_state = state\n",
        "        \n",
        "        # Get softmax predictions and logits\n",
        "        self.prediction, self.logits = build_output(outputs, lstm_size, num_classes)\n",
        "        \n",
        "        # Loss and optimizer (with gradient clipping)\n",
        "        self.loss = build_loss(self.logits, self.targets, lstm_size, num_classes)\n",
        "        self.optimizer = build_optimizer(self.loss, learning_rate, grad_clip)"
      ]
    },
    {
      "cell_type": "markdown",
      "metadata": {},
      "source": [
        "## Hyperparameters\n",
        "\n",
        "Here I'm defining the hyperparameters for the network. \n",
        "\n",
        "* `batch_size` - Number of sequences running through the network in one pass.\n",
        "* `num_steps` - Number of characters in the sequence the network is trained on. Larger is better typically, the network will learn more long range dependencies. But it takes longer to train. 100 is typically a good number here.\n",
        "* `lstm_size` - The number of units in the hidden layers.\n",
        "* `num_layers` - Number of hidden LSTM layers to use\n",
        "* `learning_rate` - Learning rate for training\n",
        "* `keep_prob` - The dropout keep probability when training. If you're network is overfitting, try decreasing this.\n",
        "\n",
        "Here's some good advice from Andrej Karpathy on training the network. I'm going to copy it in here for your benefit, but also link to [where it originally came from](https://github.com/karpathy/char-rnn#tips-and-tricks).\n",
        "\n",
        "> ## Tips and Tricks\n",
        "\n",
        ">### Monitoring Validation Loss vs. Training Loss\n",
        ">If you're somewhat new to Machine Learning or Neural Networks it can take a bit of expertise to get good models. The most important quantity to keep track of is the difference between your training loss (printed during training) and the validation loss (printed once in a while when the RNN is run on the validation data (by default every 1000 iterations)). In particular:\n",
        "\n",
        "> - If your training loss is much lower than validation loss then this means the network might be **overfitting**. Solutions to this are to decrease your network size, or to increase dropout. For example you could try dropout of 0.5 and so on.\n",
        "> - If your training/validation loss are about equal then your model is **underfitting**. Increase the size of your model (either number of layers or the raw number of neurons per layer)\n",
        "\n",
        "> ### Approximate number of parameters\n",
        "\n",
        "> The two most important parameters that control the model are `lstm_size` and `num_layers`. I would advise that you always use `num_layers` of either 2/3. The `lstm_size` can be adjusted based on how much data you have. The two important quantities to keep track of here are:\n",
        "\n",
        "> - The number of parameters in your model. This is printed when you start training.\n",
        "> - The size of your dataset. 1MB file is approximately 1 million characters.\n",
        "\n",
        ">These two should be about the same order of magnitude. It's a little tricky to tell. Here are some examples:\n",
        "\n",
        "> - I have a 100MB dataset and I'm using the default parameter settings (which currently print 150K parameters). My data size is significantly larger (100 mil >> 0.15 mil), so I expect to heavily underfit. I am thinking I can comfortably afford to make `lstm_size` larger.\n",
        "> - I have a 10MB dataset and running a 10 million parameter model. I'm slightly nervous and I'm carefully monitoring my validation loss. If it's larger than my training loss then I may want to try to increase dropout a bit and see if that helps the validation loss.\n",
        "\n",
        "> ### Best models strategy\n",
        "\n",
        ">The winning strategy to obtaining very good models (if you have the compute time) is to always err on making the network larger (as large as you're willing to wait for it to compute) and then try different dropout values (between 0,1). Whatever model has the best validation performance (the loss, written in the checkpoint filename, low is good) is the one you should use in the end.\n",
        "\n",
        ">It is very common in deep learning to run many different models with many different hyperparameter settings, and in the end take whatever checkpoint gave the best validation performance.\n",
        "\n",
        ">By the way, the size of your training and validation splits are also parameters. Make sure you have a decent amount of data in your validation set or otherwise the validation performance will be noisy and not very informative.\n"
      ]
    },
    {
      "cell_type": "code",
      "execution_count": 15,
      "metadata": {},
      "outputs": [],
      "source": [
        "batch_size = 100        # Sequences per batch\n",
        "num_steps = 100         # Number of sequence steps per batch\n",
        "lstm_size = 512         # Size of hidden layers in LSTMs\n",
        "num_layers = 2          # Number of LSTM layers\n",
        "learning_rate = 0.001   # Learning rate\n",
        "keep_prob = 0.5         # Dropout keep probability"
      ]
    },
    {
      "cell_type": "markdown",
      "metadata": {},
      "source": [
        "## Time for training\n",
        "\n",
        "This is typical training code, passing inputs and targets into the network, then running the optimizer. Here we also get back the final LSTM state for the mini-batch. Then, we pass that state back into the network so the next batch can continue the state from the previous batch. And every so often (set by `save_every_n`) I save a checkpoint.\n",
        "\n",
        "Here I'm saving checkpoints with the format\n",
        "\n",
        "`i{iteration number}_l{# hidden layer units}.ckpt`"
      ]
    },
    {
      "cell_type": "code",
      "execution_count": 17,
      "metadata": {
        "scrolled": true
      },
      "outputs": [
        {
          "name": "stdout",
          "output_type": "stream",
          "text": [
            "Epoch: 1/20...  Training Step: 50...  Training loss: 3.1711...  0.3075 sec/batch\n",
            "Epoch: 1/20...  Training Step: 100...  Training loss: 3.0784...  0.3074 sec/batch\n",
            "Epoch: 1/20...  Training Step: 150...  Training loss: 2.8475...  0.3072 sec/batch\n",
            "Epoch: 2/20...  Training Step: 200...  Training loss: 2.4691...  0.3083 sec/batch\n",
            "Epoch: 2/20...  Training Step: 250...  Training loss: 2.3567...  0.3079 sec/batch\n",
            "Epoch: 2/20...  Training Step: 300...  Training loss: 2.2529...  0.3064 sec/batch\n",
            "Epoch: 2/20...  Training Step: 350...  Training loss: 2.1947...  0.3078 sec/batch\n",
            "Epoch: 3/20...  Training Step: 400...  Training loss: 2.0648...  0.3075 sec/batch\n",
            "Epoch: 3/20...  Training Step: 450...  Training loss: 2.0049...  0.3080 sec/batch\n",
            "Epoch: 3/20...  Training Step: 500...  Training loss: 1.9300...  0.3080 sec/batch\n",
            "Epoch: 3/20...  Training Step: 550...  Training loss: 1.9133...  0.3076 sec/batch\n",
            "Epoch: 4/20...  Training Step: 600...  Training loss: 1.7943...  0.3079 sec/batch\n",
            "Epoch: 4/20...  Training Step: 650...  Training loss: 1.8007...  0.3074 sec/batch\n",
            "Epoch: 4/20...  Training Step: 700...  Training loss: 1.7477...  0.3070 sec/batch\n",
            "Epoch: 4/20...  Training Step: 750...  Training loss: 1.7184...  0.3075 sec/batch\n",
            "Epoch: 5/20...  Training Step: 800...  Training loss: 1.6816...  0.3070 sec/batch\n",
            "Epoch: 5/20...  Training Step: 850...  Training loss: 1.6368...  0.3086 sec/batch\n",
            "Epoch: 5/20...  Training Step: 900...  Training loss: 1.6365...  0.3074 sec/batch\n",
            "Epoch: 5/20...  Training Step: 950...  Training loss: 1.6119...  0.3081 sec/batch\n",
            "Epoch: 6/20...  Training Step: 1000...  Training loss: 1.5846...  0.3081 sec/batch\n",
            "Epoch: 6/20...  Training Step: 1050...  Training loss: 1.5990...  0.3065 sec/batch\n",
            "Epoch: 6/20...  Training Step: 1100...  Training loss: 1.5552...  0.3074 sec/batch\n",
            "Epoch: 6/20...  Training Step: 1150...  Training loss: 1.5546...  0.3072 sec/batch\n",
            "Epoch: 7/20...  Training Step: 1200...  Training loss: 1.5010...  0.3075 sec/batch\n",
            "Epoch: 7/20...  Training Step: 1250...  Training loss: 1.5504...  0.3069 sec/batch\n",
            "Epoch: 7/20...  Training Step: 1300...  Training loss: 1.4608...  0.3077 sec/batch\n",
            "Epoch: 7/20...  Training Step: 1350...  Training loss: 1.4547...  0.3080 sec/batch\n",
            "Epoch: 8/20...  Training Step: 1400...  Training loss: 1.4612...  0.3078 sec/batch\n",
            "Epoch: 8/20...  Training Step: 1450...  Training loss: 1.4315...  0.3083 sec/batch\n",
            "Epoch: 8/20...  Training Step: 1500...  Training loss: 1.3945...  0.3077 sec/batch\n",
            "Epoch: 8/20...  Training Step: 1550...  Training loss: 1.3969...  0.3073 sec/batch\n",
            "Epoch: 9/20...  Training Step: 1600...  Training loss: 1.3623...  0.3082 sec/batch\n",
            "Epoch: 9/20...  Training Step: 1650...  Training loss: 1.3742...  0.3079 sec/batch\n",
            "Epoch: 9/20...  Training Step: 1700...  Training loss: 1.3196...  0.3067 sec/batch\n",
            "Epoch: 9/20...  Training Step: 1750...  Training loss: 1.3448...  0.3081 sec/batch\n",
            "Epoch: 10/20...  Training Step: 1800...  Training loss: 1.3660...  0.3069 sec/batch\n",
            "Epoch: 10/20...  Training Step: 1850...  Training loss: 1.3138...  0.3080 sec/batch\n",
            "Epoch: 10/20...  Training Step: 1900...  Training loss: 1.3307...  0.3075 sec/batch\n",
            "Epoch: 10/20...  Training Step: 1950...  Training loss: 1.3884...  0.3074 sec/batch\n",
            "Epoch: 11/20...  Training Step: 2000...  Training loss: 1.3357...  0.3075 sec/batch\n",
            "Epoch: 11/20...  Training Step: 2050...  Training loss: 1.3043...  0.3061 sec/batch\n",
            "Epoch: 11/20...  Training Step: 2100...  Training loss: 1.3024...  0.3072 sec/batch\n",
            "Epoch: 11/20...  Training Step: 2150...  Training loss: 1.3065...  0.3079 sec/batch\n",
            "Epoch: 12/20...  Training Step: 2200...  Training loss: 1.3083...  0.3078 sec/batch\n",
            "Epoch: 12/20...  Training Step: 2250...  Training loss: 1.3064...  0.3078 sec/batch\n",
            "Epoch: 12/20...  Training Step: 2300...  Training loss: 1.2406...  0.3070 sec/batch\n",
            "Epoch: 12/20...  Training Step: 2350...  Training loss: 1.2574...  0.3085 sec/batch\n",
            "Epoch: 13/20...  Training Step: 2400...  Training loss: 1.2821...  0.3081 sec/batch\n",
            "Epoch: 13/20...  Training Step: 2450...  Training loss: 1.2365...  0.3073 sec/batch\n",
            "Epoch: 13/20...  Training Step: 2500...  Training loss: 1.2591...  0.3070 sec/batch\n",
            "Epoch: 13/20...  Training Step: 2550...  Training loss: 1.2615...  0.3088 sec/batch\n",
            "Epoch: 14/20...  Training Step: 2600...  Training loss: 1.2244...  0.3074 sec/batch\n",
            "Epoch: 14/20...  Training Step: 2650...  Training loss: 1.2603...  0.3074 sec/batch\n",
            "Epoch: 14/20...  Training Step: 2700...  Training loss: 1.1959...  0.3079 sec/batch\n",
            "Epoch: 14/20...  Training Step: 2750...  Training loss: 1.2101...  0.3075 sec/batch\n",
            "Epoch: 15/20...  Training Step: 2800...  Training loss: 1.2674...  0.3076 sec/batch\n",
            "Epoch: 15/20...  Training Step: 2850...  Training loss: 1.2238...  0.3078 sec/batch\n",
            "Epoch: 15/20...  Training Step: 2900...  Training loss: 1.2334...  0.3077 sec/batch\n",
            "Epoch: 15/20...  Training Step: 2950...  Training loss: 1.2571...  0.3069 sec/batch\n",
            "Epoch: 16/20...  Training Step: 3000...  Training loss: 1.2357...  0.3077 sec/batch\n",
            "Epoch: 16/20...  Training Step: 3050...  Training loss: 1.2112...  0.3080 sec/batch\n",
            "Epoch: 16/20...  Training Step: 3100...  Training loss: 1.1709...  0.3075 sec/batch\n",
            "Epoch: 16/20...  Training Step: 3150...  Training loss: 1.1775...  0.3076 sec/batch\n",
            "Epoch: 17/20...  Training Step: 3200...  Training loss: 1.1798...  0.3078 sec/batch\n",
            "Epoch: 17/20...  Training Step: 3250...  Training loss: 1.1980...  0.3086 sec/batch\n",
            "Epoch: 17/20...  Training Step: 3300...  Training loss: 1.1821...  0.3078 sec/batch\n",
            "Epoch: 17/20...  Training Step: 3350...  Training loss: 1.1994...  0.3077 sec/batch\n",
            "Epoch: 18/20...  Training Step: 3400...  Training loss: 1.1963...  0.3083 sec/batch\n",
            "Epoch: 18/20...  Training Step: 3450...  Training loss: 1.1934...  0.3076 sec/batch\n",
            "Epoch: 18/20...  Training Step: 3500...  Training loss: 1.1847...  0.3080 sec/batch\n",
            "Epoch: 18/20...  Training Step: 3550...  Training loss: 1.1716...  0.3075 sec/batch\n",
            "Epoch: 19/20...  Training Step: 3600...  Training loss: 1.1871...  0.3082 sec/batch\n",
            "Epoch: 19/20...  Training Step: 3650...  Training loss: 1.1824...  0.3081 sec/batch\n",
            "Epoch: 19/20...  Training Step: 3700...  Training loss: 1.1780...  0.3082 sec/batch\n",
            "Epoch: 19/20...  Training Step: 3750...  Training loss: 1.1437...  0.3077 sec/batch\n",
            "Epoch: 20/20...  Training Step: 3800...  Training loss: 1.1350...  0.3070 sec/batch\n",
            "Epoch: 20/20...  Training Step: 3850...  Training loss: 1.1567...  0.3082 sec/batch\n",
            "Epoch: 20/20...  Training Step: 3900...  Training loss: 1.1797...  0.3084 sec/batch\n",
            "Epoch: 20/20...  Training Step: 3950...  Training loss: 1.1566...  0.3082 sec/batch\n"
          ]
        }
      ],
      "source": [
        "epochs = 20\n",
        "# Print losses every N interations\n",
        "print_every_n = 50\n",
        "\n",
        "# Save every N iterations\n",
        "save_every_n = 200\n",
        "\n",
        "model = CharRNN(len(vocab), batch_size=batch_size, num_steps=num_steps,\n",
        "                lstm_size=lstm_size, num_layers=num_layers, \n",
        "                learning_rate=learning_rate)\n",
        "\n",
        "saver = tf.train.Saver(max_to_keep=100)\n",
        "with tf.Session() as sess:\n",
        "    sess.run(tf.global_variables_initializer())\n",
        "    \n",
        "    # Use the line below to load a checkpoint and resume training\n",
        "    #saver.restore(sess, 'checkpoints/______.ckpt')\n",
        "    counter = 0\n",
        "    for e in range(epochs):\n",
        "        # Train network\n",
        "        new_state = sess.run(model.initial_state)\n",
        "        loss = 0\n",
        "        for x, y in get_batches(encoded, batch_size, num_steps):\n",
        "            counter += 1\n",
        "            start = time.time()\n",
        "            feed = {model.inputs: x,\n",
        "                    model.targets: y,\n",
        "                    model.keep_prob: keep_prob,\n",
        "                    model.initial_state: new_state}\n",
        "            batch_loss, new_state, _ = sess.run([model.loss, \n",
        "                                                 model.final_state, \n",
        "                                                 model.optimizer], \n",
        "                                                 feed_dict=feed)\n",
        "            if (counter % print_every_n == 0):\n",
        "                end = time.time()\n",
        "                print('Epoch: {}/{}... '.format(e+1, epochs),\n",
        "                      'Training Step: {}... '.format(counter),\n",
        "                      'Training loss: {:.4f}... '.format(batch_loss),\n",
        "                      '{:.4f} sec/batch'.format((end-start)))\n",
        "        \n",
        "            if (counter % save_every_n == 0):\n",
        "                saver.save(sess, \"checkpoints/i{}_l{}.ckpt\".format(counter, lstm_size))\n",
        "    \n",
        "    saver.save(sess, \"checkpoints/i{}_l{}.ckpt\".format(counter, lstm_size))"
      ]
    },
    {
      "cell_type": "markdown",
      "metadata": {},
      "source": [
        "#### Saved checkpoints\n",
        "\n",
        "Read up on saving and loading checkpoints here: https://www.tensorflow.org/programmers_guide/variables"
      ]
    },
    {
      "cell_type": "code",
      "execution_count": 18,
      "metadata": {},
      "outputs": [
        {
          "data": {
            "text/plain": [
              "model_checkpoint_path: \"checkpoints/i3960_l512.ckpt\"\n",
              "all_model_checkpoint_paths: \"checkpoints/i200_l512.ckpt\"\n",
              "all_model_checkpoint_paths: \"checkpoints/i400_l512.ckpt\"\n",
              "all_model_checkpoint_paths: \"checkpoints/i600_l512.ckpt\"\n",
              "all_model_checkpoint_paths: \"checkpoints/i800_l512.ckpt\"\n",
              "all_model_checkpoint_paths: \"checkpoints/i1000_l512.ckpt\"\n",
              "all_model_checkpoint_paths: \"checkpoints/i1200_l512.ckpt\"\n",
              "all_model_checkpoint_paths: \"checkpoints/i1400_l512.ckpt\"\n",
              "all_model_checkpoint_paths: \"checkpoints/i1600_l512.ckpt\"\n",
              "all_model_checkpoint_paths: \"checkpoints/i1800_l512.ckpt\"\n",
              "all_model_checkpoint_paths: \"checkpoints/i2000_l512.ckpt\"\n",
              "all_model_checkpoint_paths: \"checkpoints/i2200_l512.ckpt\"\n",
              "all_model_checkpoint_paths: \"checkpoints/i2400_l512.ckpt\"\n",
              "all_model_checkpoint_paths: \"checkpoints/i2600_l512.ckpt\"\n",
              "all_model_checkpoint_paths: \"checkpoints/i2800_l512.ckpt\"\n",
              "all_model_checkpoint_paths: \"checkpoints/i3000_l512.ckpt\"\n",
              "all_model_checkpoint_paths: \"checkpoints/i3200_l512.ckpt\"\n",
              "all_model_checkpoint_paths: \"checkpoints/i3400_l512.ckpt\"\n",
              "all_model_checkpoint_paths: \"checkpoints/i3600_l512.ckpt\"\n",
              "all_model_checkpoint_paths: \"checkpoints/i3800_l512.ckpt\"\n",
              "all_model_checkpoint_paths: \"checkpoints/i3960_l512.ckpt\""
            ]
          },
          "execution_count": 18,
          "metadata": {},
          "output_type": "execute_result"
        }
      ],
      "source": [
        "tf.train.get_checkpoint_state('checkpoints')"
      ]
    },
    {
      "cell_type": "markdown",
      "metadata": {},
      "source": [
        "## Sampling\n",
        "\n",
        "Now that the network is trained, we'll can use it to generate new text. The idea is that we pass in a character, then the network will predict the next character. We can use the new one, to predict the next one. And we keep doing this to generate all new text. I also included some functionality to prime the network with some text by passing in a string and building up a state from that.\n",
        "\n",
        "The network gives us predictions for each character. To reduce noise and make things a little less random, I'm going to only choose a new character from the top N most likely characters.\n",
        "\n"
      ]
    },
    {
      "cell_type": "code",
      "execution_count": 19,
      "metadata": {},
      "outputs": [],
      "source": [
        "def pick_top_n(preds, vocab_size, top_n=5):\n",
        "    p = np.squeeze(preds)\n",
        "    p[np.argsort(p)[:-top_n]] = 0\n",
        "    p = p / np.sum(p)\n",
        "    c = np.random.choice(vocab_size, 1, p=p)[0]\n",
        "    return c"
      ]
    },
    {
      "cell_type": "code",
      "execution_count": 20,
      "metadata": {},
      "outputs": [],
      "source": [
        "def sample(checkpoint, n_samples, lstm_size, vocab_size, prime=\"The \"):\n",
        "    samples = [c for c in prime]\n",
        "    model = CharRNN(len(vocab), lstm_size=lstm_size, sampling=True)\n",
        "    saver = tf.train.Saver()\n",
        "    with tf.Session() as sess:\n",
        "        saver.restore(sess, checkpoint)\n",
        "        new_state = sess.run(model.initial_state)\n",
        "        for c in prime:\n",
        "            x = np.zeros((1, 1))\n",
        "            x[0,0] = vocab_to_int[c]\n",
        "            feed = {model.inputs: x,\n",
        "                    model.keep_prob: 1.,\n",
        "                    model.initial_state: new_state}\n",
        "            preds, new_state = sess.run([model.prediction, model.final_state], \n",
        "                                         feed_dict=feed)\n",
        "\n",
        "        c = pick_top_n(preds, len(vocab))\n",
        "        samples.append(int_to_vocab[c])\n",
        "\n",
        "        for i in range(n_samples):\n",
        "            x[0,0] = c\n",
        "            feed = {model.inputs: x,\n",
        "                    model.keep_prob: 1.,\n",
        "                    model.initial_state: new_state}\n",
        "            preds, new_state = sess.run([model.prediction, model.final_state], \n",
        "                                         feed_dict=feed)\n",
        "\n",
        "            c = pick_top_n(preds, len(vocab))\n",
        "            samples.append(int_to_vocab[c])\n",
        "        \n",
        "    return ''.join(samples)"
      ]
    },
    {
      "cell_type": "markdown",
      "metadata": {},
      "source": [
        "Here, pass in the path to a checkpoint and sample from the network."
      ]
    },
    {
      "cell_type": "code",
      "execution_count": 21,
      "metadata": {},
      "outputs": [
        {
          "data": {
            "text/plain": [
              "'checkpoints/i3960_l512.ckpt'"
            ]
          },
          "execution_count": 21,
          "metadata": {},
          "output_type": "execute_result"
        }
      ],
      "source": [
        "tf.train.latest_checkpoint('checkpoints')"
      ]
    },
    {
      "cell_type": "code",
      "execution_count": 24,
      "metadata": {},
      "outputs": [
        {
          "name": "stdout",
          "output_type": "stream",
          "text": [
            "Farched about her hands, by the\n",
            "same asposition of the children and the drove of the same are to the\n",
            "servant, he would see the most incances that he was not sitting at the\n",
            "subject with the children, a countess and, started in an expected that is\n",
            "at the sick money and trying for her. She wrote to the sorts of a\n",
            "subject that was said. She would not go to her,\" the mirdly of the country,\n",
            "and the stable with the self-post of the sort of their meeting of her\n",
            "hands towards himself.\n",
            "\n",
            "She shaked before the start were something before him. He felt the princess\n",
            "and her since had telled him to answer all the higher trains with home of\n",
            "which she was so mistaken, and he had no one seem all along the mentally\n",
            "of the composure of their sister-inelfounded on the marsh.\n",
            "\"I am not a man of as though I'm so thinking of my sour,\" he said,\n",
            "always deliberately, and that they were the conversation, and took it\n",
            "again with all his forth, but he see she had stopped his happiness, which\n",
            "had a man who had been at his work, to tell him that however so much\n",
            "she saw that the destaited who was a crambon with her head. He was all\n",
            "the consciousness of the countess had not been so much to say with the\n",
            "music.\n",
            "\n",
            "\"I want to be a good-humored family than anyone that if you don't know why\n",
            "would see anything along with my conversation. They words in her heart\n",
            "asked him to be asked the time, and she was as horror to the sounds\n",
            "of this threat, as saying that he was impossible to be asking of it. I\n",
            "can't see that to see you should never come to the way of that minutes\n",
            "are still men and to go and were so meaning. He was at a sense of\n",
            "meeting. I'm always see her for a legs to get them. But that's not so\n",
            "much that I she drove up for more only to get out to her in all, in\n",
            "the children's soul. He's already from this conviction.\"\n",
            "\n",
            "She was sitting at the same attention to the best shoulder--the\n",
            "conversation with shame.\n",
            "\n",
            "\"And I'm not sayish!\" and that there was since his whole position, his\n",
            "mile he was always an honest and supper and something to be selfed in\n",
            "a contrary, all the country, who saw the case of her formitions and\n",
            "three-more and support that he had all asked her. Anne was not simple,\n",
            "that would so something to himself, that had been moved one, which saw\n",
            "the prayer in his secrot some sort of through his hands with which he could\n",
            "say somether of the while--that thought it were silent,, and would hear\n",
            "that the peasants only thought of himself, and so to shate it, and he\n",
            "had not been decided, and he could not help such a strange. Several\n",
            "princisper and had had said any one had said he had bad a man, and\n",
            "there was a moment of a party, and who will be a share of this\n",
            "serenes. This was in the came in the dreas of them, was steaning to\n",
            "the cloud and happy, walked to a little ball. And she was to be and\n",
            "say that that he could not love the stay of all the secretary of him.\n",
            "\n",
            "He had no one old hands. The simely closed the care was still an agotial\n",
            "friends. But he was so as she went towards the persons of all this\n",
            "was the same time that he had been drounded, and that it had been\n",
            "torturing home to him, so intensity, her sister he was sitting in the\n",
            "will are all that she was something bus indeed and all sorts, and how\n",
            "collecting in his heart the difference and so at haste as he had seen him\n",
            "in which he had said she had\n",
            "noticed, and what had telling her to herself her forgiveness, and\n",
            "the same see in such can ball that they were at time that he had been\n",
            "said in his sister's heart. Alexey Alexandrovitch had been at the\n",
            "most old man would have left her as though she would help a letter\n",
            "from her.\n",
            "\n",
            "\"Then, it's a long while,\" said Sergey Ivanovitch. \"It's to be disapared from\n",
            "this tome and do you see how I can be all alone, I can't believe it's\n",
            "away,\" said the merchants with her face was a steps of the respect, and\n",
            "where they had been so the more standed to say that it would be suffering.\n",
            "They were siteing togather, and that she had been a capical constration\n",
            "of hinds to their checks, and showed home at tater, and he was the\n",
            "chief parents and his sense, and the shoulders and the manseres of the\n",
            "portrait of the marshal of the church was a single man who had already\n",
            "seen itself that it could not be a personal forming the point of the\n",
            "words, but was a spring of spillion were so more interested in, working\n",
            "his simple of that horse between them over the marshal of the condition\n",
            "to her husband; he was sentered at any fine as she had anywhere thought\n",
            "of herself.\n",
            "\n",
            "The children, he had so standing at the marshal. All the morning had\n",
            "been meaning.\n",
            "\n",
            "\"Alexey Alexandrovitch!\"\n",
            "\n",
            "\"If to be in the same to tell me to be done, and with the polenter was\n",
            "struggling at his stearing. It may be indeed if this is service, than\n",
            "I should say nothing work all that had no dronging me to have been brought\n",
            "to such home for him. That has to be dreamed, have not taking off at\n",
            "love, by the contrary, and would be so arringly, so think of them.\n",
            "\n",
            "I heard, and she has nothing to say it, he's going away.\"\n",
            "\n",
            "\"Though, I see a simple at the sick money.\"\n",
            "\n",
            "At the same smile were so mother to the country with the depression,\n",
            "so intonested to sign.\n",
            "\n",
            "She spired that she did not ask her, and at this world and her feelings\n",
            "he had to get up to him that this could be the sorry fen officer\n",
            "or sevening her face.\n",
            "\n",
            "\"Woll that's a solution. I say about it on the portroo....\"\n",
            "\n",
            "\"I was not so moment for the same as a memory of my feeling to be all\n",
            "all the contentable formary of the peasant at the person in a conversation\n",
            "to the previous despair, and that I came from a letter and thank...\"\n",
            "\n",
            "\"Yes, it's not as they have a share at to shot all the crowd.\"\n",
            "\n",
            "\"What a fair, I can't say as I,\" answered Anna.\n",
            "\n",
            "\"Yes, yes,\" she said with a face on the string of her party and hearing\n",
            "the priest, also wife and touching her all the bears of a sister.\n",
            "\n",
            "\"I'm very glad I am alone in this wife? They were not higher for me,\n",
            "to make the pleasure, and to see you who, I have the man, it's all\n",
            "to bright them; but the mistoos were so many a convince that it was all\n",
            "so that I can't see anything about that.\"\n",
            "\n",
            "\"No, I will talk to him with a strangely thing of if you want her true,\n",
            "and I see that he would an one see her with the crows of my light for the\n",
            "misery.\"\n",
            "\n",
            "She went up to Vassenka he had not heard. \"To see it!\"\n",
            "\n",
            "\"Yes; that's so, as it was too much for the pride of the satisfaction to\n",
            "her, and that it was not that you won't go or into the prince's condition.\n",
            "They were straight to her husband and might be sorry for her, and that it\n",
            "is so too, that you didn't want to see him to do this time it won't ask\n",
            "him. They're being said, and she's seen anything buried at once. And,\n",
            "after much interests, but I don't tell you that's the point,\"\n",
            "she said, going up, stending her sister-in-law to her. He had not\n",
            "been talking that he had not thought of that happiness.\n",
            "\n",
            "The memory of them. So it said to himself.\n",
            "\n",
            "\"Yes, I shall be saying to him. He's a cloth of a child,\" thought Levin.\n",
            "\"It's a friend to be in spiratoos to any minute to the crows in which they\n",
            "have never dasely said in the manner, and I'll clince in the way of\n",
            "suffering on the servant in his own and the marshal of his words there's\n",
            "not a shoulder all at all who has set anowher, and I can't be all attonged.\"\n",
            "\n",
            "At that instant the more he had tone of sitting on her hair. However\n",
            "heary were concentrated times of the minutes. And to the chinder,\n",
            "they were to get happened or the man he had a gentleman of the criminary of\n",
            "them.\n",
            "\n",
            "\"Well, what's that?\" he thought, looking at her hand.\n",
            "\n",
            "\"You're too, I can't gave his mind about you about it,\" she added, to\n",
            "call him that she was not answering horsely at him.\n",
            "\n",
            "\"I'll shoot it at mind in the same?\" said Levin. \"I don't think as\n",
            "able to say. How so you're the sick man. These position is not as\n",
            "happy than even. Brought a lot of times to be any contralience and\n",
            "danger at that moment, and what do you tell you,\" said Alexey\n",
            "Alexandrovitch inte the subject for taken, answering her hand and wanted\n",
            "to see them, standing at the sound of the carriage would be different and\n",
            "dearing his study, which there was no consciousness of sense of sense and\n",
            "the chair of the peosle and any stringly state and deceived as though he\n",
            "saw it was to be asked. The princess seemed to him what she had\n",
            "seen her sister.\n",
            "\n",
            "The simplaring to see her shorl shools, without a farmly, with which he\n",
            "came over the box, but as showing her sunder, an election had seen the\n",
            "steps to the money at the mistake of her heart. \"If you shall be\n",
            "serious one.\"\n",
            "\n",
            "\"You're standing, I don't know that it's all shall be already, and here\n",
            "all he would be a soft to her at his chief and her feeling with him, and\n",
            "all her, I had been more and here that I can't have so much fines, and it\n",
            "is all of the party in all the conditions of the stables at home. I am a\n",
            "much of manness and so and suffering. I have all the sumstinicious forms\n",
            "of things; and there was not a meaning of anything,\" said the princess.\n",
            "\"Where's some of all this shall?... You would have been said anything absurd\n",
            "to you,\" she said, and, would have brought them on the day when she was\n",
            "the feeling of harry. There as soon as they all walked and completely\n",
            "perfucted at that he was still healing to the personage that he had\n",
            "never cried was not all the memories of the world all horres. There was\n",
            "some time of the same tea supper and a still men, telling her heavily\n",
            "on that table and her life he did not can't help so. But at that thing\n",
            "who had been considerated, and an ones of happy, he had always had been\n",
            "the same time to be through, and the same death and their serious says,\n",
            "his short smile and alone, as she was completely already forgotten. The\n",
            "dissonate step who shall be sent a lately to a court of terror in such\n",
            "condition. Seeing her son. The case of the country went up to his head,\n",
            "and a shrill shirt was sight, and then the mother had seen the soul of simple\n",
            "on her arrusaly and straight to a self that he was not asked for the crowd\n",
            "was to be promised; they he saw that they said t\n"
          ]
        }
      ],
      "source": [
        "checkpoint = tf.train.latest_checkpoint('checkpoints')\n",
        "samp = sample(checkpoint, 10000, lstm_size, len(vocab), prime=\"Far\")\n",
        "print(samp)"
      ]
    },
    {
      "cell_type": "code",
      "execution_count": null,
      "metadata": {
        "collapsed": true
      },
      "outputs": [],
      "source": [
        "checkpoint = 'checkpoints/i200_l512.ckpt'\n",
        "samp = sample(checkpoint, 1000, lstm_size, len(vocab), prime=\"Far\")\n",
        "print(samp)"
      ]
    },
    {
      "cell_type": "code",
      "execution_count": null,
      "metadata": {
        "collapsed": true
      },
      "outputs": [],
      "source": [
        "checkpoint = 'checkpoints/i600_l512.ckpt'\n",
        "samp = sample(checkpoint, 1000, lstm_size, len(vocab), prime=\"Far\")\n",
        "print(samp)"
      ]
    },
    {
      "cell_type": "code",
      "execution_count": null,
      "metadata": {
        "collapsed": true
      },
      "outputs": [],
      "source": [
        "checkpoint = 'checkpoints/i1200_l512.ckpt'\n",
        "samp = sample(checkpoint, 1000, lstm_size, len(vocab), prime=\"Far\")\n",
        "print(samp)"
      ]
    }
  ],
  "metadata": {
    "kernelspec": {
      "display_name": "Python 3",
      "language": "python",
      "name": "python3"
    },
    "language_info": {
      "codemirror_mode": {
        "name": "ipython",
        "version": 3
      },
      "file_extension": ".py",
      "mimetype": "text/x-python",
      "name": "python",
      "nbconvert_exporter": "python",
      "pygments_lexer": "ipython3",
      "version": "3.11.4"
    }
  },
  "nbformat": 4,
  "nbformat_minor": 2
}
